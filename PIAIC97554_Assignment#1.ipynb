{
 "cells": [
  {
   "cell_type": "markdown",
   "metadata": {
    "id": "NgUeapcvmIRh"
   },
   "source": [
    "# **Assignment For Numpy**"
   ]
  },
  {
   "cell_type": "markdown",
   "metadata": {
    "id": "yhr3JicwnA-4"
   },
   "source": [
    "Difficulty Level **Beginner**"
   ]
  },
  {
   "cell_type": "markdown",
   "metadata": {
    "id": "hVPqDJ1SnKSh"
   },
   "source": [
    "1. Import the numpy package under the name np"
   ]
  },
  {
   "cell_type": "code",
   "execution_count": 1,
   "metadata": {
    "id": "SePu31zKmgS-"
   },
   "outputs": [],
   "source": [
    "import numpy as np\n"
   ]
  },
  {
   "cell_type": "markdown",
   "metadata": {
    "id": "d0gO81krnL7g"
   },
   "source": [
    "2. Create a null vector of size 10 "
   ]
  },
  {
   "cell_type": "code",
   "execution_count": 2,
   "metadata": {
    "id": "2s6o2JPgnSBr"
   },
   "outputs": [
    {
     "name": "stdout",
     "output_type": "stream",
     "text": [
      "[0. 0. 0. 0. 0. 0. 0. 0. 0. 0.]\n"
     ]
    }
   ],
   "source": [
    "null_vector = np.zeros(10)\n",
    "print(null_vector)"
   ]
  },
  {
   "cell_type": "markdown",
   "metadata": {
    "id": "BJTMK03fnS1w"
   },
   "source": [
    "3. Create a vector with values ranging from 10 to 49"
   ]
  },
  {
   "cell_type": "code",
   "execution_count": 3,
   "metadata": {
    "id": "qRXxXuWdnj1M"
   },
   "outputs": [
    {
     "data": {
      "text/plain": [
       "array([10, 11, 12, 13, 14, 15, 16, 17, 18, 19, 20, 21, 22, 23, 24, 25, 26,\n",
       "       27, 28, 29, 30, 31, 32, 33, 34, 35, 36, 37, 38, 39, 40, 41, 42, 43,\n",
       "       44, 45, 46, 47, 48, 49])"
      ]
     },
     "execution_count": 3,
     "metadata": {},
     "output_type": "execute_result"
    }
   ],
   "source": [
    "vect = np.arange(10 , 50)\n",
    "vect"
   ]
  },
  {
   "cell_type": "markdown",
   "metadata": {
    "id": "n63lzg5Onkcn"
   },
   "source": [
    "4. Find the shape of previous array in question 3"
   ]
  },
  {
   "cell_type": "code",
   "execution_count": 4,
   "metadata": {
    "id": "1FueBdqPn_q7"
   },
   "outputs": [
    {
     "data": {
      "text/plain": [
       "(40,)"
      ]
     },
     "execution_count": 4,
     "metadata": {},
     "output_type": "execute_result"
    }
   ],
   "source": [
    "vect.shape"
   ]
  },
  {
   "cell_type": "markdown",
   "metadata": {
    "id": "AzMlQj1MoAVe"
   },
   "source": [
    "5. Print the type of the previous array in question 3"
   ]
  },
  {
   "cell_type": "code",
   "execution_count": 5,
   "metadata": {
    "id": "AO9PYmdWoE1L"
   },
   "outputs": [
    {
     "data": {
      "text/plain": [
       "dtype('int64')"
      ]
     },
     "execution_count": 5,
     "metadata": {},
     "output_type": "execute_result"
    }
   ],
   "source": [
    "vect.dtype"
   ]
  },
  {
   "cell_type": "markdown",
   "metadata": {
    "id": "0qaKS13Yon-U"
   },
   "source": [
    "6. Print the numpy version and the configuration\n"
   ]
  },
  {
   "cell_type": "code",
   "execution_count": 6,
   "metadata": {
    "id": "T3wY24e1oorh"
   },
   "outputs": [
    {
     "name": "stdout",
     "output_type": "stream",
     "text": [
      "1.19.4\n",
      "blas_mkl_info:\n",
      "  NOT AVAILABLE\n",
      "blis_info:\n",
      "  NOT AVAILABLE\n",
      "openblas_info:\n",
      "    libraries = ['openblas', 'openblas']\n",
      "    library_dirs = ['/usr/local/lib']\n",
      "    language = c\n",
      "    define_macros = [('HAVE_CBLAS', None)]\n",
      "blas_opt_info:\n",
      "    libraries = ['openblas', 'openblas']\n",
      "    library_dirs = ['/usr/local/lib']\n",
      "    language = c\n",
      "    define_macros = [('HAVE_CBLAS', None)]\n",
      "lapack_mkl_info:\n",
      "  NOT AVAILABLE\n",
      "openblas_lapack_info:\n",
      "    libraries = ['openblas', 'openblas']\n",
      "    library_dirs = ['/usr/local/lib']\n",
      "    language = c\n",
      "    define_macros = [('HAVE_CBLAS', None)]\n",
      "lapack_opt_info:\n",
      "    libraries = ['openblas', 'openblas']\n",
      "    library_dirs = ['/usr/local/lib']\n",
      "    language = c\n",
      "    define_macros = [('HAVE_CBLAS', None)]\n",
      "None\n"
     ]
    }
   ],
   "source": [
    "print(np.__version__)\n",
    "print(np.show_config())"
   ]
  },
  {
   "cell_type": "markdown",
   "metadata": {
    "id": "ZyUUiQf5oyvE"
   },
   "source": [
    "7. Print the dimension of the array in question 3\n"
   ]
  },
  {
   "cell_type": "code",
   "execution_count": 7,
   "metadata": {
    "id": "pLXfuIqIo0vq"
   },
   "outputs": [
    {
     "data": {
      "text/plain": [
       "1"
      ]
     },
     "execution_count": 7,
     "metadata": {},
     "output_type": "execute_result"
    }
   ],
   "source": [
    "vect.ndim"
   ]
  },
  {
   "cell_type": "markdown",
   "metadata": {
    "id": "JYVMuFrqpBdV"
   },
   "source": [
    "8. Create a boolean array with all the True values"
   ]
  },
  {
   "cell_type": "code",
   "execution_count": 8,
   "metadata": {
    "id": "3apZsISzpFKR"
   },
   "outputs": [
    {
     "data": {
      "text/plain": [
       "array([ True,  True,  True,  True,  True,  True,  True,  True,  True,\n",
       "        True])"
      ]
     },
     "execution_count": 8,
     "metadata": {},
     "output_type": "execute_result"
    }
   ],
   "source": [
    "boolArray = np.ones(10 , dtype=bool)\n",
    "boolArray"
   ]
  },
  {
   "cell_type": "markdown",
   "metadata": {
    "id": "4zbBooWZpPBU"
   },
   "source": [
    "9. Create a two dimensional array\n",
    "\n",
    "\n"
   ]
  },
  {
   "cell_type": "code",
   "execution_count": 9,
   "metadata": {
    "id": "KfPQEiVIpdTo"
   },
   "outputs": [
    {
     "data": {
      "text/plain": [
       "array([[ 1.06456731,  1.13736469, -0.20352554],\n",
       "       [-0.81527741,  1.38517359, -1.42609455],\n",
       "       [-0.0103846 , -1.33398109, -0.26469412]])"
      ]
     },
     "execution_count": 9,
     "metadata": {},
     "output_type": "execute_result"
    }
   ],
   "source": [
    "arr2 = np.random.randn(3 , 3)\n",
    "arr2"
   ]
  },
  {
   "cell_type": "markdown",
   "metadata": {
    "id": "do9wPAFbpqC7"
   },
   "source": [
    "10. Create a three dimensional array\n",
    "\n"
   ]
  },
  {
   "cell_type": "code",
   "execution_count": 10,
   "metadata": {
    "id": "ZCO_q-KZqAeW"
   },
   "outputs": [
    {
     "data": {
      "text/plain": [
       "array([[[ 1.0995159 , -1.75534425, -0.83897844],\n",
       "        [-0.97276123, -0.78842239, -0.57125951],\n",
       "        [ 0.41593097,  1.41581966,  0.02599619],\n",
       "        [ 0.18579087,  0.29904323, -1.05897412]],\n",
       "\n",
       "       [[-0.50897123,  1.50850968, -0.39430212],\n",
       "        [-0.29623574,  0.14432471,  0.2978155 ],\n",
       "        [-0.3898255 , -0.04800828,  1.245164  ],\n",
       "        [-1.10450447,  0.17885936, -0.14630733]],\n",
       "\n",
       "       [[-0.21864953, -1.96350329,  1.76840675],\n",
       "        [-2.72710443, -0.27701957,  0.15732693],\n",
       "        [ 0.55966525, -0.57690511, -0.33457376],\n",
       "        [-0.37350256,  0.91241486, -1.36413473]]])"
      ]
     },
     "execution_count": 10,
     "metadata": {},
     "output_type": "execute_result"
    }
   ],
   "source": [
    "arr3 = np.random.randn(3 , 4 , 3)\n",
    "arr3"
   ]
  },
  {
   "cell_type": "markdown",
   "metadata": {
    "id": "a4iysJ87qEeb"
   },
   "source": [
    "Difficulty Level **Easy**"
   ]
  },
  {
   "cell_type": "markdown",
   "metadata": {
    "id": "DehgqszSqjY6"
   },
   "source": [
    "11. Reverse a vector (first element becomes last)"
   ]
  },
  {
   "cell_type": "code",
   "execution_count": 11,
   "metadata": {
    "id": "tfevmc4VqkWu"
   },
   "outputs": [
    {
     "name": "stdout",
     "output_type": "stream",
     "text": [
      "[0 1 2 3 4 5 6 7 8 9]\n",
      "[9 8 7 6 5 4 3 2 1 0]\n"
     ]
    }
   ],
   "source": [
    "#non-Reversed\n",
    "nonReversedVector = np.arange(10)\n",
    "print(nonReversedVector)\n",
    "#----------------\n",
    "#Reversed Veactor\n",
    "#----------------\n",
    "reversedVector = np.flip(nonReversedVector)\n",
    "print(reversedVector)"
   ]
  },
  {
   "cell_type": "markdown",
   "metadata": {
    "id": "yoATXS-qqk_q"
   },
   "source": [
    "12. Create a null vector of size 10 but the fifth value which is 1 "
   ]
  },
  {
   "cell_type": "code",
   "execution_count": 12,
   "metadata": {
    "id": "AheZ32Owqpte"
   },
   "outputs": [
    {
     "data": {
      "text/plain": [
       "array([0., 0., 0., 0., 1., 0., 0., 0., 0., 0.])"
      ]
     },
     "execution_count": 12,
     "metadata": {},
     "output_type": "execute_result"
    }
   ],
   "source": [
    "nullVector = np.zeros(10)\n",
    "nullVector[4] = 1\n",
    "nullVector"
   ]
  },
  {
   "cell_type": "markdown",
   "metadata": {
    "id": "RZRzOBbFsY0w"
   },
   "source": [
    "13. Create a 3x3 identity matrix"
   ]
  },
  {
   "cell_type": "code",
   "execution_count": 16,
   "metadata": {
    "id": "va2ou0BHsvEj"
   },
   "outputs": [
    {
     "data": {
      "text/plain": [
       "array([[1., 0., 0.],\n",
       "       [0., 1., 0.],\n",
       "       [0., 0., 1.]])"
      ]
     },
     "execution_count": 16,
     "metadata": {},
     "output_type": "execute_result"
    }
   ],
   "source": [
    "identityArray = np.eye(3)\n",
    "identityArray"
   ]
  },
  {
   "cell_type": "markdown",
   "metadata": {
    "id": "lnN5drkUs6o2"
   },
   "source": [
    "14. arr = np.array([1, 2, 3, 4, 5]) \n",
    "\n",
    "---\n",
    "\n",
    " Convert the data type of the given array from int to float "
   ]
  },
  {
   "cell_type": "code",
   "execution_count": 19,
   "metadata": {
    "id": "59EIQt6otKUB"
   },
   "outputs": [
    {
     "data": {
      "text/plain": [
       "dtype('float64')"
      ]
     },
     "execution_count": 19,
     "metadata": {},
     "output_type": "execute_result"
    }
   ],
   "source": [
    "arr = np.array([1, 2, 3, 4, 5])\n",
    "arrFloat = arr.astype(np.float64)\n",
    "arrFloat.dtype"
   ]
  },
  {
   "cell_type": "markdown",
   "metadata": {
    "id": "fSL2AKJetTes"
   },
   "source": [
    "15. arr1 =          np.array([[1., 2., 3.],\n",
    "\n",
    "                    [4., 5., 6.]])  \n",
    "                      \n",
    "    arr2 = np.array([[0., 4., 1.],\n",
    "     \n",
    "                   [7., 2., 12.]])\n",
    "\n",
    "---\n",
    "\n",
    "\n",
    "Multiply arr1 with arr2\n"
   ]
  },
  {
   "cell_type": "code",
   "execution_count": 20,
   "metadata": {
    "id": "7VDXgRQDuJNV"
   },
   "outputs": [
    {
     "data": {
      "text/plain": [
       "array([[ 0.,  8.,  3.],\n",
       "       [28., 10., 72.]])"
      ]
     },
     "execution_count": 20,
     "metadata": {},
     "output_type": "execute_result"
    }
   ],
   "source": [
    "arr1 = np.array([[1., 2., 3.],\n",
    "\n",
    "            [4., 5., 6.]])  \n",
    "arr2 = np.array([[0., 4., 1.],\n",
    "\n",
    "           [7., 2., 12.]])\n",
    "arr3 = np.multiply(arr1, arr2)\n",
    "arr3"
   ]
  },
  {
   "cell_type": "markdown",
   "metadata": {
    "id": "a8yJ438-uKni"
   },
   "source": [
    "16. arr1 = np.array([[1., 2., 3.],\n",
    "                    [4., 5., 6.]]) \n",
    "                    \n",
    "    arr2 = np.array([[0., 4., 1.], \n",
    "                    [7., 2., 12.]])\n",
    "\n",
    "\n",
    "---\n",
    "\n",
    "Make an array by comparing both the arrays provided above"
   ]
  },
  {
   "cell_type": "code",
   "execution_count": 21,
   "metadata": {
    "id": "3MPDaAlYueF3"
   },
   "outputs": [
    {
     "data": {
      "text/plain": [
       "array([[False, False, False],\n",
       "       [False, False, False]])"
      ]
     },
     "execution_count": 21,
     "metadata": {},
     "output_type": "execute_result"
    }
   ],
   "source": [
    "arr1 = np.array([[1., 2., 3.],\n",
    "\n",
    "            [4., 5., 6.]]) \n",
    "arr2 = np.array([[0., 4., 1.],\n",
    "\n",
    "            [7., 2., 12.]])\n",
    "arr3 = (arr1 == arr2)\n",
    "arr3"
   ]
  },
  {
   "cell_type": "markdown",
   "metadata": {
    "id": "3xiD0eJluewk"
   },
   "source": [
    "17. Extract all odd numbers from arr with values(0-9)"
   ]
  },
  {
   "cell_type": "code",
   "execution_count": 23,
   "metadata": {
    "id": "J_qbt_EuvM7l"
   },
   "outputs": [
    {
     "data": {
      "text/plain": [
       "array([1, 3, 5, 7, 9])"
      ]
     },
     "execution_count": 23,
     "metadata": {},
     "output_type": "execute_result"
    }
   ],
   "source": [
    "arr = np.array([1 , 2 , 3 , 4 , 5 , 6 , 7 , 8 , 9 ])\n",
    "arr[arr%2 == 1]\n"
   ]
  },
  {
   "cell_type": "markdown",
   "metadata": {
    "id": "zpg5cyLsvPoZ"
   },
   "source": [
    "18. Replace all odd numbers to -1 from previous array"
   ]
  },
  {
   "cell_type": "code",
   "execution_count": 24,
   "metadata": {
    "id": "rXUV1-ULvQdd"
   },
   "outputs": [
    {
     "data": {
      "text/plain": [
       "array([-1,  0, -1,  0, -1,  0, -1,  0, -1])"
      ]
     },
     "execution_count": 24,
     "metadata": {},
     "output_type": "execute_result"
    }
   ],
   "source": [
    "arr = np.where(arr % 2 == 1 , -1 , 0)\n",
    "arr"
   ]
  },
  {
   "cell_type": "markdown",
   "metadata": {
    "id": "FWpHTWTDvjvi"
   },
   "source": [
    "19. arr = np.arange(10)\n",
    "\n",
    "\n",
    "---\n",
    "\n",
    "Replace the values of indexes 5,6,7 and 8 to **12**"
   ]
  },
  {
   "cell_type": "code",
   "execution_count": 27,
   "metadata": {
    "id": "ensZ3lqwvlSb"
   },
   "outputs": [
    {
     "data": {
      "text/plain": [
       "array([ 0,  1,  2,  3,  4, 12, 12, 12, 12,  9])"
      ]
     },
     "execution_count": 27,
     "metadata": {},
     "output_type": "execute_result"
    }
   ],
   "source": [
    "arr = np.arange(10)\n",
    "arr[5:9] = 12\n",
    "arr"
   ]
  },
  {
   "cell_type": "markdown",
   "metadata": {
    "id": "ib-vBffAv0zy"
   },
   "source": [
    "20. Create a 2d array with 1 on the border and 0 inside"
   ]
  },
  {
   "cell_type": "code",
   "execution_count": 34,
   "metadata": {
    "id": "RmzcjNYrwDrM"
   },
   "outputs": [
    {
     "data": {
      "text/plain": [
       "array([[1., 1., 1., 1., 1.],\n",
       "       [1., 0., 0., 0., 1.],\n",
       "       [1., 0., 0., 0., 1.],\n",
       "       [1., 0., 0., 0., 1.],\n",
       "       [1., 1., 1., 1., 1.]])"
      ]
     },
     "execution_count": 34,
     "metadata": {},
     "output_type": "execute_result"
    }
   ],
   "source": [
    "array2d = np.ones((5,5))\n",
    "array2d[1:-1,1:-1] = 0\n",
    "array2d"
   ]
  },
  {
   "cell_type": "markdown",
   "metadata": {
    "id": "E1diIFSEwEmh"
   },
   "source": [
    "Difficulty Level **Medium**"
   ]
  },
  {
   "cell_type": "markdown",
   "metadata": {
    "id": "eGLZmNb_wKb4"
   },
   "source": [
    "21. arr2d = np.array([[1, 2, 3],\n",
    "\n",
    "                    [4, 5, 6], \n",
    "\n",
    "                    [7, 8, 9]])\n",
    "\n",
    "---\n",
    "\n",
    "Replace the value 5 to 12"
   ]
  },
  {
   "cell_type": "code",
   "execution_count": 37,
   "metadata": {
    "id": "VdUnsUOZwJFz"
   },
   "outputs": [
    {
     "data": {
      "text/plain": [
       "array([[ 1,  2,  3],\n",
       "       [ 4, 12,  6],\n",
       "       [ 7,  8,  9]])"
      ]
     },
     "execution_count": 37,
     "metadata": {},
     "output_type": "execute_result"
    }
   ],
   "source": [
    "arr2d = np.array([[1, 2, 3],\n",
    "\n",
    "            [4, 5, 6], \n",
    "\n",
    "            [7, 8, 9]])\n",
    "\n",
    "arr2d = np.where(arr2d == 5 , 12 , arr2d)\n",
    "arr2d"
   ]
  },
  {
   "cell_type": "markdown",
   "metadata": {
    "id": "TEbFhlPZxaKO"
   },
   "source": [
    "22. arr3d = np.array([[[1, 2, 3], [4, 5, 6]], [[7, 8, 9], [10, 11, 12]]])\n",
    "\n",
    "---\n",
    "Convert all the values of 1st array to 64\n"
   ]
  },
  {
   "cell_type": "code",
   "execution_count": 42,
   "metadata": {
    "id": "eYzephU8xmsg"
   },
   "outputs": [
    {
     "data": {
      "text/plain": [
       "array([[[64, 64, 64],\n",
       "        [ 4,  5,  6]],\n",
       "\n",
       "       [[ 7,  8,  9],\n",
       "        [10, 11, 12]]])"
      ]
     },
     "execution_count": 42,
     "metadata": {},
     "output_type": "execute_result"
    }
   ],
   "source": [
    "arr3d = np.array([[[1, 2, 3], [4, 5, 6]], [[7, 8, 9], [10, 11, 12]]])\n",
    "arr3d = np.where(arr3d < 4 , 64 , arr3d)\n",
    "arr3d"
   ]
  },
  {
   "cell_type": "markdown",
   "metadata": {
    "id": "vZj0Ndvnx6f0"
   },
   "source": [
    "23. Make a 2-Dimensional array with values 0-9 and slice out the first 1st 1-D array from it"
   ]
  },
  {
   "cell_type": "code",
   "execution_count": 6,
   "metadata": {
    "id": "pM4e9YfdyHSv"
   },
   "outputs": [
    {
     "data": {
      "text/plain": [
       "array([0, 1, 2, 3, 4])"
      ]
     },
     "execution_count": 6,
     "metadata": {},
     "output_type": "execute_result"
    }
   ],
   "source": [
    "array2dimentional = np.arange(10).reshape(2 , 5)\n",
    "array1dim = array2dimentional[0]\n",
    "array1dim"
   ]
  },
  {
   "cell_type": "markdown",
   "metadata": {
    "id": "C3dkW0lZyVps"
   },
   "source": [
    "24. Make a 2-Dimensional array with values 0-9 and slice out the 2nd value from 2nd 1-D array from it"
   ]
  },
  {
   "cell_type": "code",
   "execution_count": 9,
   "metadata": {
    "id": "IrrzK2xgygqV"
   },
   "outputs": [
    {
     "data": {
      "text/plain": [
       "6"
      ]
     },
     "execution_count": 9,
     "metadata": {},
     "output_type": "execute_result"
    }
   ],
   "source": [
    "array2dim = np.arange(10).reshape(2 , 5)\n",
    "array2dim2ndval = array2dim[1][1]\n",
    "array2dim2ndval"
   ]
  },
  {
   "cell_type": "markdown",
   "metadata": {
    "id": "G3dLwOO9yyrE"
   },
   "source": [
    "25. Make a 2-Dimensional array with values 0-9 and slice out the third column but only the first two rows"
   ]
  },
  {
   "cell_type": "code",
   "execution_count": 82,
   "metadata": {
    "id": "5Bx4fqsLyqGD"
   },
   "outputs": [
    {
     "data": {
      "text/plain": [
       "array([], shape=(1, 0), dtype=int64)"
      ]
     },
     "execution_count": 82,
     "metadata": {},
     "output_type": "execute_result"
    }
   ],
   "source": [
    "twoDimArr = np.arange(10).reshape(2, 5)\n",
    "twoDimArr[0:1 , 2:2]"
   ]
  },
  {
   "cell_type": "markdown",
   "metadata": {
    "id": "CQ9YST5jy0IL"
   },
   "source": [
    "26. Create a 10x10 array with random values and find the minimum and maximum values"
   ]
  },
  {
   "cell_type": "code",
   "execution_count": 17,
   "metadata": {
    "id": "lhJPugjQzG6W"
   },
   "outputs": [
    {
     "name": "stdout",
     "output_type": "stream",
     "text": [
      "-3.434730675585998 2.305734010763769\n"
     ]
    },
    {
     "data": {
      "text/plain": [
       "array([[-0.92698359,  0.1492441 ,  1.04376415, -0.10418687,  2.1788263 ,\n",
       "         0.23224791, -0.26925001, -0.80324608,  0.69213139, -3.43473068],\n",
       "       [-2.21290379, -0.2576103 , -0.74643081,  0.44488753,  0.75327492,\n",
       "        -1.99212905, -0.61945963, -1.30690581,  0.46981601,  1.52668832],\n",
       "       [-1.27558713,  0.06574699,  1.04771952,  1.00511971,  0.4245382 ,\n",
       "        -0.51650942, -0.93619782, -0.37012506,  0.70197318, -0.31842763],\n",
       "       [-0.2698748 , -0.78200519, -0.64193426, -1.38089711,  1.43541435,\n",
       "         0.65613886,  0.55987651, -0.14454227,  0.20033077,  0.03757421],\n",
       "       [-0.70471452, -0.05655681,  0.25898677, -0.81153291, -0.57774135,\n",
       "         0.9259431 ,  2.30573401,  1.46476494,  0.85299383,  0.23744787],\n",
       "       [-0.02471279, -0.10522874, -0.05834359,  1.12770004,  0.52596514,\n",
       "        -0.05069404,  0.02604471,  0.02647813, -0.80019875, -0.37021102],\n",
       "       [-0.74126749,  0.86688292, -0.32303665,  0.17880452, -1.36676644,\n",
       "         0.19509279,  0.75660629,  1.01343993,  0.2539489 , -0.66907726],\n",
       "       [ 1.43359364,  1.13177402,  0.53392488,  1.2489088 , -0.34756255,\n",
       "         0.54005019,  1.77513049,  0.42905911, -0.96466622,  0.57644183],\n",
       "       [-1.52261518,  0.2199083 ,  1.38000247,  0.59586075, -1.19437236,\n",
       "        -0.1997676 ,  0.2354544 ,  0.11271473,  0.59385407,  0.17884125],\n",
       "       [-0.43925613,  0.8808579 , -1.01945173,  1.00215253,  1.24170434,\n",
       "        -0.42777571,  1.08871348,  0.72278893,  0.69071042, -0.0360607 ]])"
      ]
     },
     "execution_count": 17,
     "metadata": {},
     "output_type": "execute_result"
    }
   ],
   "source": [
    "tenXten = np.random.randn(10 , 10)\n",
    "a = tenXten.min()\n",
    "b = tenXten.max()\n",
    "#a = minimum && b = maximum\n",
    "print(a , b)\n",
    "tenXten"
   ]
  },
  {
   "cell_type": "markdown",
   "metadata": {
    "id": "cAgDt6KazHk6"
   },
   "source": [
    "27. a = np.array([1,2,3,2,3,4,3,4,5,6]) b = np.array([7,2,10,2,7,4,9,4,9,8])\n",
    "---\n",
    "Find the common items between a and b\n"
   ]
  },
  {
   "cell_type": "code",
   "execution_count": 34,
   "metadata": {
    "id": "kBXZanxIzs_F"
   },
   "outputs": [
    {
     "name": "stdout",
     "output_type": "stream",
     "text": [
      "[2 4]\n"
     ]
    }
   ],
   "source": [
    "a = np.array([1,2,3,2,3,4,3,4,5,6]) \n",
    "b = np.array([7,2,10,2,7,4,9,4,9,8])\n",
    "print(np.intersect1d(a , b))"
   ]
  },
  {
   "cell_type": "markdown",
   "metadata": {
    "id": "lF9IzWOAztpD"
   },
   "source": [
    "28. a = np.array([1,2,3,2,3,4,3,4,5,6])\n",
    "b = np.array([7,2,10,2,7,4,9,4,9,8])\n",
    "\n",
    "---\n",
    "Find the positions where elements of a and b match\n",
    "\n"
   ]
  },
  {
   "cell_type": "code",
   "execution_count": 41,
   "metadata": {
    "id": "JR-mHQLH0HY_"
   },
   "outputs": [
    {
     "data": {
      "text/plain": [
       "array([1, 3, 5, 7])"
      ]
     },
     "execution_count": 41,
     "metadata": {},
     "output_type": "execute_result"
    }
   ],
   "source": [
    "a = np.array([1,2,3,2,3,4,3,4,5,6])\n",
    "b = np.array([7,2,10,2,7,4,9,4,9,8])\n",
    "c = np.where(np.in1d(a , b))[0]\n",
    "c"
   ]
  },
  {
   "cell_type": "markdown",
   "metadata": {
    "id": "mMDiefpH0H1x"
   },
   "source": [
    "29.  names = np.array(['Bob', 'Joe', 'Will', 'Bob', 'Will', 'Joe', 'Joe'])  data = np.random.randn(7, 4)\n",
    "\n",
    "---\n",
    "Find all the values from array **data** where the values from array **names** are not equal to **Will**\n"
   ]
  },
  {
   "cell_type": "code",
   "execution_count": 9,
   "metadata": {
    "id": "gfc1Lpf81ZSR"
   },
   "outputs": [
    {
     "data": {
      "text/plain": [
       "array([[-0.74057404, -1.33302828, -0.48682604,  0.43257053],\n",
       "       [ 0.67188128, -0.02159062,  1.10245615, -1.92081847]])"
      ]
     },
     "execution_count": 9,
     "metadata": {},
     "output_type": "execute_result"
    }
   ],
   "source": [
    "names = np.array(['Bob', 'Joe', 'Will', 'Bob', 'Will', 'Joe', 'Joe'])  \n",
    "data = np.random.randn(7, 4)\n",
    "data[names == 'Will']"
   ]
  },
  {
   "cell_type": "markdown",
   "metadata": {
    "id": "52zEjDMf1aXS"
   },
   "source": [
    "30. names = np.array(['Bob', 'Joe', 'Will', 'Bob', 'Will', 'Joe', 'Joe']) data = np.random.randn(7, 4)\n",
    "\n",
    "---\n",
    "Find all the values from array **data** where the values from array **names** are not equal to **Will** and **Joe**\n",
    "\n"
   ]
  },
  {
   "cell_type": "code",
   "execution_count": 21,
   "metadata": {
    "id": "8RYG0kLO1mHw"
   },
   "outputs": [
    {
     "name": "stdout",
     "output_type": "stream",
     "text": [
      "[[-1.5183874   0.47709529 -1.42699561 -1.06299945]\n",
      " [-0.38980821 -0.28675636  1.68918645  0.7568201 ]\n",
      " [-0.3737231  -0.14061634  1.09202489  1.80606687]\n",
      " [-2.36535519 -0.17605482  0.79160674  1.56990821]\n",
      " [-3.05849915 -0.26506708  0.35737762  1.1673361 ]] [[-1.5183874   0.47709529 -1.42699561 -1.06299945]\n",
      " [-0.74057404 -1.33302828 -0.48682604  0.43257053]\n",
      " [-0.3737231  -0.14061634  1.09202489  1.80606687]\n",
      " [ 0.67188128 -0.02159062  1.10245615 -1.92081847]]\n"
     ]
    }
   ],
   "source": [
    "a = data[names != 'Will']\n",
    "b = data[names != 'Joe']\n",
    "print (a , b)"
   ]
  },
  {
   "cell_type": "markdown",
   "metadata": {
    "id": "Q7hjf2bd2dCY"
   },
   "source": [
    "Difficulty Level **Hard**"
   ]
  },
  {
   "cell_type": "markdown",
   "metadata": {
    "id": "b48g7aRA2jVM"
   },
   "source": [
    "31. Create a 2D array of shape 5x3 to contain decimal numbers between 1 and 15."
   ]
  },
  {
   "cell_type": "code",
   "execution_count": 28,
   "metadata": {
    "id": "EbwfSCrW2f9_"
   },
   "outputs": [
    {
     "data": {
      "text/plain": [
       "array([[ 1,  2,  3],\n",
       "       [ 4,  5,  6],\n",
       "       [ 7,  8,  9],\n",
       "       [10, 11, 12],\n",
       "       [13, 14, 15]])"
      ]
     },
     "execution_count": 28,
     "metadata": {},
     "output_type": "execute_result"
    }
   ],
   "source": [
    "z = np.arange(1, 16).reshape(5 , 3)\n",
    "z"
   ]
  },
  {
   "cell_type": "markdown",
   "metadata": {
    "id": "Ei_nDHtO3qBk"
   },
   "source": [
    "32. Create an array of shape (2, 2, 4) with decimal numbers between 1 to 16."
   ]
  },
  {
   "cell_type": "code",
   "execution_count": 29,
   "metadata": {
    "id": "phOxVpBM4M6D"
   },
   "outputs": [
    {
     "data": {
      "text/plain": [
       "array([[[ 1,  2,  3,  4],\n",
       "        [ 5,  6,  7,  8]],\n",
       "\n",
       "       [[ 9, 10, 11, 12],\n",
       "        [13, 14, 15, 16]]])"
      ]
     },
     "execution_count": 29,
     "metadata": {},
     "output_type": "execute_result"
    }
   ],
   "source": [
    "x = np.arange(1 , 17).reshape(2, 2, 4)\n",
    "x"
   ]
  },
  {
   "cell_type": "markdown",
   "metadata": {
    "id": "uyiQaMjA4d_x"
   },
   "source": [
    "33. Swap axes of the array you created in Question 32"
   ]
  },
  {
   "cell_type": "code",
   "execution_count": 33,
   "metadata": {
    "id": "w2m9p8064VtR"
   },
   "outputs": [
    {
     "data": {
      "text/plain": [
       "array([[[ 1,  5],\n",
       "        [ 2,  6],\n",
       "        [ 3,  7],\n",
       "        [ 4,  8]],\n",
       "\n",
       "       [[ 9, 13],\n",
       "        [10, 14],\n",
       "        [11, 15],\n",
       "        [12, 16]]])"
      ]
     },
     "execution_count": 33,
     "metadata": {},
     "output_type": "execute_result"
    }
   ],
   "source": [
    "c = x.swapaxes(1 , 2)\n",
    "c"
   ]
  },
  {
   "cell_type": "markdown",
   "metadata": {
    "id": "2dlU_yUR4mVZ"
   },
   "source": [
    "34. Create an array of size 10, and find the square root of every element in the array, if the values less than 0.5, replace them with 0"
   ]
  },
  {
   "cell_type": "code",
   "execution_count": 47,
   "metadata": {
    "id": "tmBabEJ-5JgB"
   },
   "outputs": [
    {
     "data": {
      "text/plain": [
       "array([0.66369467, 0.        , 0.96537854, 0.96505687, 0.9214528 ,\n",
       "       0.        , 0.        , 0.90066902, 0.77996102, 0.94130271])"
      ]
     },
     "execution_count": 47,
     "metadata": {},
     "output_type": "execute_result"
    }
   ],
   "source": [
    "sqrt = np.random.random(10)\n",
    "sqrt = np.sqrt(sqrt)\n",
    "sqrt[sqrt < 0.5] = 0\n",
    "sqrt"
   ]
  },
  {
   "cell_type": "markdown",
   "metadata": {
    "id": "SNAM4dpu5RKA"
   },
   "source": [
    "35. Create two random arrays of range 12 and make an array with the maximum values between each element of the two arrays"
   ]
  },
  {
   "cell_type": "code",
   "execution_count": 16,
   "metadata": {
    "id": "3pxebU2b5q9Z"
   },
   "outputs": [
    {
     "name": "stdout",
     "output_type": "stream",
     "text": [
      "[ 8  9  2  1  1  1  5 10  4  5  7  8] [ 3  5  7  4  4  7  8  5  3  8  2 10]\n",
      "[ 8  9  7  4  4  7  8 10  4  8  7 10]\n"
     ]
    }
   ],
   "source": [
    "arrX = np.random.randint(12, size=12)\n",
    "arrY = np.random.randint(12, size=12)\n",
    "print(arrX , arrY)\n",
    "print(np.maximum(arrX , arrY))"
   ]
  },
  {
   "cell_type": "markdown",
   "metadata": {
    "id": "fz_bpqm28qmD"
   },
   "source": [
    "36. names = np.array(['Bob', 'Joe', 'Will', 'Bob', 'Will', 'Joe', 'Joe'])\n",
    "\n",
    "---\n",
    "Find the unique names and sort them out!\n"
   ]
  },
  {
   "cell_type": "code",
   "execution_count": 31,
   "metadata": {
    "id": "hiSNMgcY87Ey"
   },
   "outputs": [
    {
     "data": {
      "text/plain": [
       "array(['Bob', 'Joe', 'Will'], dtype='<U4')"
      ]
     },
     "execution_count": 31,
     "metadata": {},
     "output_type": "execute_result"
    }
   ],
   "source": [
    "names = np.array(['Bob', 'Joe', 'Will', 'Bob', 'Will', 'Joe', 'Joe'])\n",
    "uniqueNames = np.unique(names)\n",
    "uniqueNamesSort = np.sort(uniqueNames)\n",
    "uniqueNamesSort"
   ]
  },
  {
   "cell_type": "markdown",
   "metadata": {
    "id": "dguMNzob870H"
   },
   "source": [
    "37. a = np.array([1,2,3,4,5])\n",
    "b = np.array([5,6,7,8,9])\n",
    "\n",
    "---\n",
    "From array a remove all items present in array b\n",
    "\n"
   ]
  },
  {
   "cell_type": "code",
   "execution_count": 63,
   "metadata": {
    "id": "eCNJXPvK9IAr"
   },
   "outputs": [
    {
     "data": {
      "text/plain": [
       "array([1, 2, 3, 4])"
      ]
     },
     "execution_count": 63,
     "metadata": {},
     "output_type": "execute_result"
    }
   ],
   "source": [
    "a = np.array([1,2,3,4,5]) \n",
    "b = np.array([5,6,7,8,9])\n",
    "c = np.setdiff1d(a , b)\n",
    "c"
   ]
  },
  {
   "cell_type": "markdown",
   "metadata": {
    "id": "gz4Dvd4b_Akh"
   },
   "source": [
    "38.  Following is the input NumPy array delete column two and insert following new column in its place.\n",
    "\n",
    "---\n",
    "sampleArray = numpy.array([[34,43,73],[82,22,12],[53,94,66]]) \n",
    "\n",
    "\n",
    "---\n",
    "\n",
    "newColumn = numpy.array([[10,10,10]])\n"
   ]
  },
  {
   "cell_type": "code",
   "execution_count": 62,
   "metadata": {
    "id": "lLWAJWJJ_I3d"
   },
   "outputs": [
    {
     "data": {
      "text/plain": [
       "array([[34, 43, 73],\n",
       "       [10, 10, 10],\n",
       "       [53, 94, 66]])"
      ]
     },
     "execution_count": 62,
     "metadata": {},
     "output_type": "execute_result"
    }
   ],
   "source": [
    "sampleArray = np.array([[34,43,73],[82,22,12],[53,94,66]]) \n",
    "newColumn = np.array([[10,10,10]])\n",
    "newSample = np.delete(sampleArray, 1, 0)\n",
    "xyz = np.insert(newSample,1,[newColumn],axis = 0) \n",
    "xyz"
   ]
  },
  {
   "cell_type": "markdown",
   "metadata": {
    "id": "1lIfmbQt_J_W"
   },
   "source": [
    "39. x = np.array([[1., 2., 3.], [4., 5., 6.]]) y = np.array([[6., 23.], [-1, 7], [8, 9]])\n",
    "\n",
    "\n",
    "---\n",
    "Find the dot product of the above two matrix\n"
   ]
  },
  {
   "cell_type": "code",
   "execution_count": 42,
   "metadata": {
    "id": "fV2-vXcR_vmu"
   },
   "outputs": [
    {
     "data": {
      "text/plain": [
       "array([[ 28.,  64.],\n",
       "       [ 67., 181.]])"
      ]
     },
     "execution_count": 42,
     "metadata": {},
     "output_type": "execute_result"
    }
   ],
   "source": [
    "x = np.array([[1., 2., 3.], [4., 5., 6.]]) \n",
    "y = np.array([[6., 23.], [-1, 7], [8, 9]])\n",
    "z = np.dot(x , y)\n",
    "z"
   ]
  },
  {
   "cell_type": "markdown",
   "metadata": {
    "id": "5U-4odUw_wP0"
   },
   "source": [
    "40. Generate a matrix of 20 random values and find its cumulative sum"
   ]
  },
  {
   "cell_type": "code",
   "execution_count": 38,
   "metadata": {
    "id": "_oOHdiYEAF8N"
   },
   "outputs": [
    {
     "data": {
      "text/plain": [
       "array([  0.2640332 ,   0.569909  ,   0.66444077,   0.94119024,\n",
       "         1.76427677,   2.10088123,   2.40274916,   3.30864532,\n",
       "         4.26543108,   4.69203062,   5.35475903,   6.19640012,\n",
       "         6.64833151,   6.95569027,   7.90911697,   8.68887772,\n",
       "         9.26188924,   9.81585008,  10.21172084,  10.72969982,\n",
       "        10.85144608,  11.15837128,  11.72970572,  12.24322621,\n",
       "        12.4866936 ,  12.98426916,  13.87811285,  14.04141554,\n",
       "        14.40885914,  15.24407779,  15.69169597,  15.78276928,\n",
       "        16.49959271,  17.20324256,  17.3198518 ,  17.47184781,\n",
       "        17.69337377,  18.62662321,  18.97253687,  19.88001422,\n",
       "        20.27830392,  20.36481368,  20.56143315,  20.90870539,\n",
       "        21.72508813,  22.4796658 ,  23.35022792,  23.49732288,\n",
       "        23.88882749,  24.42029011,  25.27920608,  25.93984423,\n",
       "        26.75016665,  27.16348495,  27.64345015,  27.78002063,\n",
       "        28.40378844,  28.69623014,  29.10171821,  29.66964425,\n",
       "        30.31726145,  30.43146945,  31.16056943,  31.8653553 ,\n",
       "        32.01102255,  32.25665697,  32.30132369,  32.79663028,\n",
       "        33.44082792,  33.93545943,  34.63460315,  34.99123983,\n",
       "        35.76760038,  36.47068929,  36.80164902,  37.74717278,\n",
       "        38.11380087,  38.57230382,  38.8548481 ,  39.68390045,\n",
       "        40.25352059,  41.04908278,  41.49003824,  42.43978271,\n",
       "        42.48789027,  42.88934805,  43.88479722,  44.09960695,\n",
       "        44.29606757,  44.72974934,  45.51175087,  45.88012224,\n",
       "        46.67429814,  46.80700563,  47.00119416,  47.57824018,\n",
       "        47.78577753,  48.35607535,  48.53023301,  48.99859502,\n",
       "        49.20824888,  49.56540206,  49.73041934,  49.88325344,\n",
       "        50.09480715,  51.00844936,  51.70978889,  52.18678758,\n",
       "        52.2990593 ,  53.13666755,  54.03615048,  54.87277807,\n",
       "        55.12873057,  55.44507408,  55.63645912,  56.30863261,\n",
       "        56.85850788,  57.85126751,  57.98014064,  58.66836619,\n",
       "        59.39318766,  59.47980649,  60.2609871 ,  61.17929092,\n",
       "        62.10832218,  63.02288076,  63.1403327 ,  64.06559993,\n",
       "        64.46311693,  65.30129126,  65.49246004,  65.7927895 ,\n",
       "        66.74416351,  67.70911738,  67.85427118,  68.64518944,\n",
       "        69.5025729 ,  69.92166265,  70.43520479,  70.72376943,\n",
       "        71.09347862,  71.20433111,  71.90949442,  72.17712743,\n",
       "        72.49819704,  73.19115487,  73.98986029,  74.1559761 ,\n",
       "        74.40183849,  75.33507234,  75.48232673,  76.01088943,\n",
       "        76.68219229,  77.2859573 ,  77.45734237,  78.43176514,\n",
       "        79.23924989,  79.46041105,  80.17594087,  80.87739295,\n",
       "        81.10662543,  81.56280756,  81.56565537,  81.79852939,\n",
       "        82.65234059,  82.72613754,  83.30867186,  83.899939  ,\n",
       "        83.98160136,  84.53213866,  84.54305408,  85.46377587,\n",
       "        85.48937107,  86.39096541,  87.1370572 ,  87.91955841,\n",
       "        88.68731991,  89.12153263,  89.68361333,  90.49339827,\n",
       "        91.28186861,  92.20993456,  93.01067771,  93.04409224,\n",
       "        93.70982733,  93.88891275,  94.12061005,  95.03026829,\n",
       "        95.06056212,  95.56352738,  96.04411979,  96.35534281,\n",
       "        97.18192037,  97.63950897,  97.90227361,  98.44358113,\n",
       "        99.17857429,  99.81744558, 100.41857674, 100.73574171,\n",
       "       101.62974119, 102.47656734, 102.6636218 , 103.16255901,\n",
       "       103.25885331, 104.0395491 , 104.32866552, 104.49723846,\n",
       "       104.88199842, 104.94572737, 105.88160031, 105.91967412,\n",
       "       106.89044143, 107.65651926, 107.69845866, 108.18726804,\n",
       "       108.2951477 , 108.35349361, 109.07799614, 110.0674191 ,\n",
       "       110.37039432, 110.40484323, 110.44825571, 111.16060211,\n",
       "       111.42407079, 111.7669982 , 111.85436995, 112.04665336,\n",
       "       112.34232373, 112.97716585, 113.01808904, 113.86597806,\n",
       "       114.52982685, 114.98327249, 115.12183718, 115.35592767,\n",
       "       116.26647994, 116.59226984, 117.3772457 , 118.34200917,\n",
       "       118.36121882, 118.62889258, 119.3921862 , 119.43314094,\n",
       "       119.97909924, 120.4964896 , 120.95308641, 121.47185205,\n",
       "       121.81099475, 122.65906239, 123.26028513, 123.5249313 ,\n",
       "       124.51415313, 125.15961349, 125.97988064, 126.17356327,\n",
       "       126.70403183, 127.0532024 , 127.15208192, 127.51596223,\n",
       "       127.9774736 , 128.215515  , 128.45467369, 128.97053125,\n",
       "       128.9872019 , 129.91089573, 130.41607135, 131.22507653,\n",
       "       131.32946102, 131.41621751, 132.37184327, 133.02963571,\n",
       "       133.8382196 , 134.18933256, 134.57971528, 134.77198571,\n",
       "       135.57194409, 135.65681246, 136.43371935, 137.11255959,\n",
       "       137.56298634, 138.45545176, 139.16164347, 140.02079364,\n",
       "       140.40387614, 141.20722888, 142.15040036, 142.88077857,\n",
       "       143.42809337, 144.05066374, 144.51152451, 144.54452644,\n",
       "       145.41778938, 146.27072125, 146.87369856, 147.01446137,\n",
       "       147.92167103, 148.54423674, 148.66569751, 148.72713824,\n",
       "       149.11396394, 149.20373269, 150.15951059, 150.95988181,\n",
       "       151.48791862, 151.51944208, 151.93368246, 151.94612841,\n",
       "       152.48441026, 152.98214031, 153.53955288, 154.39687202,\n",
       "       154.71598544, 155.6753317 , 156.43483021, 156.60023492,\n",
       "       157.0288989 , 157.7695662 , 157.90648463, 158.89192688,\n",
       "       159.48427551, 160.30553196, 160.661549  , 160.88691391,\n",
       "       161.34590174, 161.65321028, 162.12443756, 162.16856543,\n",
       "       162.56612623, 162.71439276, 162.84158284, 163.65848603,\n",
       "       164.24962366, 164.46430373, 165.35767304, 165.95393487,\n",
       "       166.32083957, 167.28047109, 167.45282471, 167.84366501,\n",
       "       168.34593152, 169.06755661, 169.32083398, 169.93890868,\n",
       "       170.26513679, 170.61360059, 171.20088899, 171.24740716,\n",
       "       171.55265559, 172.34752298, 173.13614488, 173.93272647,\n",
       "       174.06807798, 174.81982807, 174.90339802, 175.60234314,\n",
       "       175.93029827, 176.12588963, 176.77670087, 176.89697613,\n",
       "       177.34479518, 178.10078306, 178.23228082, 178.5743679 ,\n",
       "       178.89451939, 179.66047488, 180.26109282, 181.2317952 ,\n",
       "       181.76442576, 181.80448689, 182.37466135, 182.71163821,\n",
       "       182.74325691, 183.07899522, 183.54300611, 184.02732234,\n",
       "       184.76958273, 184.87282701, 184.99242966, 185.19206731,\n",
       "       185.28778306, 185.38943811, 186.06089021, 186.57643127,\n",
       "       187.18767407, 187.22043293, 187.62872144, 187.8045588 ,\n",
       "       188.14719855, 188.60654173, 189.58542248, 190.2563175 ,\n",
       "       190.41858624, 190.79144862, 191.13896271, 191.76898103,\n",
       "       192.01392255, 192.23204757, 192.47894885, 192.95908637])"
      ]
     },
     "execution_count": 38,
     "metadata": {},
     "output_type": "execute_result"
    }
   ],
   "source": [
    "matrix = np.random.rand(20,20)\n",
    "np.cumsum(matrix)\n",
    "\n"
   ]
  },
  {
   "cell_type": "code",
   "execution_count": null,
   "metadata": {},
   "outputs": [],
   "source": []
  }
 ],
 "metadata": {
  "colab": {
   "name": "Numpy-Assignment-PIAIC-Batch35-Q2.ipynb",
   "provenance": []
  },
  "kernelspec": {
   "display_name": "Python 3",
   "language": "python",
   "name": "python3"
  },
  "language_info": {
   "codemirror_mode": {
    "name": "ipython",
    "version": 3
   },
   "file_extension": ".py",
   "mimetype": "text/x-python",
   "name": "python",
   "nbconvert_exporter": "python",
   "pygments_lexer": "ipython3",
   "version": "3.9.1"
  }
 },
 "nbformat": 4,
 "nbformat_minor": 1
}
